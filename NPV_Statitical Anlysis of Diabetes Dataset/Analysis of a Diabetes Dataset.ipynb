{
 "cells": [
  {
   "cell_type": "markdown",
   "metadata": {},
   "source": [
    " <link rel=\"stylesheet\" href=\"https://fonts.googleapis.com/css?family=Tangerine\">    \n",
    "<div style=\"font-family: 'Tangerine', serif; text-align:center; font-size: 35px; text-shadow: 4px 4px 4px #aaa;\">A Visual Exploration and Statitical Anlysis of Diabetes Dataset</div>"
   ]
  },
  {
   "cell_type": "markdown",
   "metadata": {},
   "source": [
    "<link rel=\"stylesheet\" href=\"https://fonts.googleapis.com/css?family=Roboto&display=swap\">    \n",
    "<br/>\n",
    "<div style=\"font-family: 'Roboto', serif; text-align:center; font-size: 35px;text-align:center;\"><br/>Overview (Project statement)\n",
    "    \n",
    "    \n",
    "1.Overview (Project statement)\n",
    "\n",
    "2.Data Description\n",
    "\n",
    "3.Data exploration and Analysis \n",
    "\n",
    "4.Visualizations using Python libraries\n",
    "    \n",
    "5.Conclusion\n",
    "</div>\n",
    "<br/>"
   ]
  },
  {
   "cell_type": "code",
   "execution_count": 9,
   "metadata": {},
   "outputs": [
    {
     "ename": "SyntaxError",
     "evalue": "invalid syntax (<ipython-input-9-07c20fb1f3a0>, line 1)",
     "output_type": "error",
     "traceback": [
      "\u001b[1;36m  File \u001b[1;32m\"<ipython-input-9-07c20fb1f3a0>\"\u001b[1;36m, line \u001b[1;32m1\u001b[0m\n\u001b[1;33m    Exploratory data analysis using Seaborn and Matplotlib.\u001b[0m\n\u001b[1;37m                ^\u001b[0m\n\u001b[1;31mSyntaxError\u001b[0m\u001b[1;31m:\u001b[0m invalid syntax\n"
     ]
    }
   ],
   "source": [
    "Exploratory data analysis using Seaborn and Matplotlib."
   ]
  },
  {
   "cell_type": "code",
   "execution_count": null,
   "metadata": {},
   "outputs": [],
   "source": [
    "Github - we have hosted dataset and the Jupyter program in Github to enable collaborative working with in the team."
   ]
  },
  {
   "cell_type": "code",
   "execution_count": 10,
   "metadata": {},
   "outputs": [],
   "source": [
    "#importing libraries for analyzing our data\n",
    "import numpy as np\n",
    "import pandas as pd\n",
    "import matplotlib.pyplot as plt\n",
    "import seaborn as sns\n",
    "import plotly.graph_objects as go"
   ]
  },
  {
   "cell_type": "markdown",
   "metadata": {},
   "source": [
    "## Loading data and viewing first five rows"
   ]
  },
  {
   "cell_type": "code",
   "execution_count": 11,
   "metadata": {
    "scrolled": true
   },
   "outputs": [
    {
     "data": {
      "text/html": [
       "<div>\n",
       "<style scoped>\n",
       "    .dataframe tbody tr th:only-of-type {\n",
       "        vertical-align: middle;\n",
       "    }\n",
       "\n",
       "    .dataframe tbody tr th {\n",
       "        vertical-align: top;\n",
       "    }\n",
       "\n",
       "    .dataframe thead th {\n",
       "        text-align: right;\n",
       "    }\n",
       "</style>\n",
       "<table border=\"1\" class=\"dataframe\">\n",
       "  <thead>\n",
       "    <tr style=\"text-align: right;\">\n",
       "      <th></th>\n",
       "      <th>Number of times pregnant</th>\n",
       "      <th>Plasma glucose concentration a 2 hours in an oral glucose tolerance test</th>\n",
       "      <th>Diastolic blood pressure (mm Hg)</th>\n",
       "      <th>Triceps skin fold thickness (mm)</th>\n",
       "      <th>2-Hour serum insulin (mu U/ml)</th>\n",
       "      <th>Body mass index (weight in kg/(height in m)^2)</th>\n",
       "      <th>Diabetes pedigree function</th>\n",
       "      <th>Age (years)</th>\n",
       "      <th>Class variable</th>\n",
       "    </tr>\n",
       "  </thead>\n",
       "  <tbody>\n",
       "    <tr>\n",
       "      <th>0</th>\n",
       "      <td>6</td>\n",
       "      <td>148</td>\n",
       "      <td>72</td>\n",
       "      <td>35</td>\n",
       "      <td>0</td>\n",
       "      <td>33.6</td>\n",
       "      <td>0.627</td>\n",
       "      <td>50</td>\n",
       "      <td>1</td>\n",
       "    </tr>\n",
       "    <tr>\n",
       "      <th>1</th>\n",
       "      <td>1</td>\n",
       "      <td>85</td>\n",
       "      <td>66</td>\n",
       "      <td>29</td>\n",
       "      <td>0</td>\n",
       "      <td>26.6</td>\n",
       "      <td>0.351</td>\n",
       "      <td>31</td>\n",
       "      <td>0</td>\n",
       "    </tr>\n",
       "    <tr>\n",
       "      <th>2</th>\n",
       "      <td>8</td>\n",
       "      <td>183</td>\n",
       "      <td>64</td>\n",
       "      <td>0</td>\n",
       "      <td>0</td>\n",
       "      <td>23.3</td>\n",
       "      <td>0.672</td>\n",
       "      <td>32</td>\n",
       "      <td>1</td>\n",
       "    </tr>\n",
       "    <tr>\n",
       "      <th>3</th>\n",
       "      <td>1</td>\n",
       "      <td>89</td>\n",
       "      <td>66</td>\n",
       "      <td>23</td>\n",
       "      <td>94</td>\n",
       "      <td>28.1</td>\n",
       "      <td>0.167</td>\n",
       "      <td>21</td>\n",
       "      <td>0</td>\n",
       "    </tr>\n",
       "    <tr>\n",
       "      <th>4</th>\n",
       "      <td>0</td>\n",
       "      <td>137</td>\n",
       "      <td>40</td>\n",
       "      <td>35</td>\n",
       "      <td>168</td>\n",
       "      <td>43.1</td>\n",
       "      <td>2.288</td>\n",
       "      <td>33</td>\n",
       "      <td>1</td>\n",
       "    </tr>\n",
       "  </tbody>\n",
       "</table>\n",
       "</div>"
      ],
      "text/plain": [
       "   Number of times pregnant  \\\n",
       "0                         6   \n",
       "1                         1   \n",
       "2                         8   \n",
       "3                         1   \n",
       "4                         0   \n",
       "\n",
       "   Plasma glucose concentration a 2 hours in an oral glucose tolerance test  \\\n",
       "0                                                148                          \n",
       "1                                                 85                          \n",
       "2                                                183                          \n",
       "3                                                 89                          \n",
       "4                                                137                          \n",
       "\n",
       "   Diastolic blood pressure (mm Hg)  Triceps skin fold thickness (mm)  \\\n",
       "0                                72                                35   \n",
       "1                                66                                29   \n",
       "2                                64                                 0   \n",
       "3                                66                                23   \n",
       "4                                40                                35   \n",
       "\n",
       "   2-Hour serum insulin (mu U/ml)  \\\n",
       "0                               0   \n",
       "1                               0   \n",
       "2                               0   \n",
       "3                              94   \n",
       "4                             168   \n",
       "\n",
       "   Body mass index (weight in kg/(height in m)^2)  Diabetes pedigree function  \\\n",
       "0                                            33.6                       0.627   \n",
       "1                                            26.6                       0.351   \n",
       "2                                            23.3                       0.672   \n",
       "3                                            28.1                       0.167   \n",
       "4                                            43.1                       2.288   \n",
       "\n",
       "   Age (years)  Class variable  \n",
       "0           50               1  \n",
       "1           31               0  \n",
       "2           32               1  \n",
       "3           21               0  \n",
       "4           33               1  "
      ]
     },
     "execution_count": 11,
     "metadata": {},
     "output_type": "execute_result"
    }
   ],
   "source": [
    "# dataset is hosted at Github following path - https://raw.githubusercontent.com/meetAmarAtGithub/PES_MTech_Assignments/master/NPV_Statitical%20Anlysis%20of%20Diabetes%20Dataset/diabetes.csv\n",
    "df1 = pd.read_csv('https://raw.githubusercontent.com/meetAmarAtGithub/PES_MTech_Assignments/master/NPV_Statitical%20Anlysis%20of%20Diabetes%20Dataset/diabetes.csv')\n",
    "df1.head()"
   ]
  },
  {
   "cell_type": "code",
   "execution_count": 12,
   "metadata": {},
   "outputs": [
    {
     "name": "stdout",
     "output_type": "stream",
     "text": [
      "<class 'pandas.core.frame.DataFrame'>\n",
      "RangeIndex: 768 entries, 0 to 767\n",
      "Data columns (total 9 columns):\n",
      " #   Column                                                                    Non-Null Count  Dtype  \n",
      "---  ------                                                                    --------------  -----  \n",
      " 0   Number of times pregnant                                                  768 non-null    int64  \n",
      " 1   Plasma glucose concentration a 2 hours in an oral glucose tolerance test  768 non-null    int64  \n",
      " 2   Diastolic blood pressure (mm Hg)                                          768 non-null    int64  \n",
      " 3   Triceps skin fold thickness (mm)                                          768 non-null    int64  \n",
      " 4   2-Hour serum insulin (mu U/ml)                                            768 non-null    int64  \n",
      " 5   Body mass index (weight in kg/(height in m)^2)                            768 non-null    float64\n",
      " 6   Diabetes pedigree function                                                768 non-null    float64\n",
      " 7   Age (years)                                                               768 non-null    int64  \n",
      " 8   Class variable                                                            768 non-null    int64  \n",
      "dtypes: float64(2), int64(7)\n",
      "memory usage: 54.1 KB\n"
     ]
    }
   ],
   "source": [
    "df1.info()"
   ]
  },
  {
   "cell_type": "markdown",
   "metadata": {},
   "source": [
    "The dataset contains following columns. We have total 768 rows -\n",
    "* **Number of times pregnant**\n",
    "* **Plasma glucose concentration over 2 hours in an oral glucose tolerance test**\n",
    "* **Diastolic blood pressure (mm Hg)**\n",
    "* **Triceps skin fold thickness (mm)**\n",
    "* **2-Hour serum insulin (mu U/ml)**\n",
    "* **Body mass index (weight in kg/(height in m)2)**\n",
    "* **Diabetes pedigree function** - a function which scores probability of geting diabetes based on family history\n",
    "* **Age (years)**\n",
    "* **Class variable** -0 if non-diabetic, 1 if diabetic"
   ]
  },
  {
   "cell_type": "markdown",
   "metadata": {},
   "source": [
    "### Check for NAN in DataFrame"
   ]
  },
  {
   "cell_type": "code",
   "execution_count": 13,
   "metadata": {
    "scrolled": true
   },
   "outputs": [
    {
     "data": {
      "text/plain": [
       "Number of times pregnant                                                    0\n",
       "Plasma glucose concentration a 2 hours in an oral glucose tolerance test    0\n",
       "Diastolic blood pressure (mm Hg)                                            0\n",
       "Triceps skin fold thickness (mm)                                            0\n",
       "2-Hour serum insulin (mu U/ml)                                              0\n",
       "Body mass index (weight in kg/(height in m)^2)                              0\n",
       "Diabetes pedigree function                                                  0\n",
       "Age (years)                                                                 0\n",
       "Class variable                                                              0\n",
       "dtype: int64"
      ]
     },
     "execution_count": 13,
     "metadata": {},
     "output_type": "execute_result"
    }
   ],
   "source": [
    "df1.isna().sum()"
   ]
  },
  {
   "cell_type": "raw",
   "metadata": {},
   "source": [
    "There is no NaN in dataframe."
   ]
  },
  {
   "cell_type": "markdown",
   "metadata": {},
   "source": [
    "<p style=\"color:red; text-align:center; font-size: 22px\"> Amar work <br/>\n",
    "1.Need to change column names<br/>\n",
    "2. Replace 0 and 1 in Class variable with Diabetic and Non-Diabetic<br/>\n",
    "</p>"
   ]
  },
  {
   "cell_type": "code",
   "execution_count": 14,
   "metadata": {},
   "outputs": [
    {
     "data": {
      "text/html": [
       "<div>\n",
       "<style scoped>\n",
       "    .dataframe tbody tr th:only-of-type {\n",
       "        vertical-align: middle;\n",
       "    }\n",
       "\n",
       "    .dataframe tbody tr th {\n",
       "        vertical-align: top;\n",
       "    }\n",
       "\n",
       "    .dataframe thead th {\n",
       "        text-align: right;\n",
       "    }\n",
       "</style>\n",
       "<table border=\"1\" class=\"dataframe\">\n",
       "  <thead>\n",
       "    <tr style=\"text-align: right;\">\n",
       "      <th></th>\n",
       "      <th>Number of times pregnant</th>\n",
       "      <th>Plasma glucose concentration a 2 hours in an oral glucose tolerance test</th>\n",
       "      <th>Diastolic blood pressure (mm Hg)</th>\n",
       "      <th>Triceps skin fold thickness (mm)</th>\n",
       "      <th>2-Hour serum insulin (mu U/ml)</th>\n",
       "      <th>Body mass index (weight in kg/(height in m)^2)</th>\n",
       "      <th>Diabetes pedigree function</th>\n",
       "      <th>Age (years)</th>\n",
       "      <th>Class variable</th>\n",
       "    </tr>\n",
       "  </thead>\n",
       "  <tbody>\n",
       "    <tr>\n",
       "      <th>count</th>\n",
       "      <td>768.000000</td>\n",
       "      <td>768.000000</td>\n",
       "      <td>768.000000</td>\n",
       "      <td>768.000000</td>\n",
       "      <td>768.000000</td>\n",
       "      <td>768.000000</td>\n",
       "      <td>768.000000</td>\n",
       "      <td>768.000000</td>\n",
       "      <td>768.000000</td>\n",
       "    </tr>\n",
       "    <tr>\n",
       "      <th>mean</th>\n",
       "      <td>3.845052</td>\n",
       "      <td>120.894531</td>\n",
       "      <td>69.105469</td>\n",
       "      <td>20.536458</td>\n",
       "      <td>79.799479</td>\n",
       "      <td>31.992578</td>\n",
       "      <td>0.471876</td>\n",
       "      <td>33.240885</td>\n",
       "      <td>0.348958</td>\n",
       "    </tr>\n",
       "    <tr>\n",
       "      <th>std</th>\n",
       "      <td>3.369578</td>\n",
       "      <td>31.972618</td>\n",
       "      <td>19.355807</td>\n",
       "      <td>15.952218</td>\n",
       "      <td>115.244002</td>\n",
       "      <td>7.884160</td>\n",
       "      <td>0.331329</td>\n",
       "      <td>11.760232</td>\n",
       "      <td>0.476951</td>\n",
       "    </tr>\n",
       "    <tr>\n",
       "      <th>min</th>\n",
       "      <td>0.000000</td>\n",
       "      <td>0.000000</td>\n",
       "      <td>0.000000</td>\n",
       "      <td>0.000000</td>\n",
       "      <td>0.000000</td>\n",
       "      <td>0.000000</td>\n",
       "      <td>0.078000</td>\n",
       "      <td>21.000000</td>\n",
       "      <td>0.000000</td>\n",
       "    </tr>\n",
       "    <tr>\n",
       "      <th>25%</th>\n",
       "      <td>1.000000</td>\n",
       "      <td>99.000000</td>\n",
       "      <td>62.000000</td>\n",
       "      <td>0.000000</td>\n",
       "      <td>0.000000</td>\n",
       "      <td>27.300000</td>\n",
       "      <td>0.243750</td>\n",
       "      <td>24.000000</td>\n",
       "      <td>0.000000</td>\n",
       "    </tr>\n",
       "    <tr>\n",
       "      <th>50%</th>\n",
       "      <td>3.000000</td>\n",
       "      <td>117.000000</td>\n",
       "      <td>72.000000</td>\n",
       "      <td>23.000000</td>\n",
       "      <td>30.500000</td>\n",
       "      <td>32.000000</td>\n",
       "      <td>0.372500</td>\n",
       "      <td>29.000000</td>\n",
       "      <td>0.000000</td>\n",
       "    </tr>\n",
       "    <tr>\n",
       "      <th>75%</th>\n",
       "      <td>6.000000</td>\n",
       "      <td>140.250000</td>\n",
       "      <td>80.000000</td>\n",
       "      <td>32.000000</td>\n",
       "      <td>127.250000</td>\n",
       "      <td>36.600000</td>\n",
       "      <td>0.626250</td>\n",
       "      <td>41.000000</td>\n",
       "      <td>1.000000</td>\n",
       "    </tr>\n",
       "    <tr>\n",
       "      <th>max</th>\n",
       "      <td>17.000000</td>\n",
       "      <td>199.000000</td>\n",
       "      <td>122.000000</td>\n",
       "      <td>99.000000</td>\n",
       "      <td>846.000000</td>\n",
       "      <td>67.100000</td>\n",
       "      <td>2.420000</td>\n",
       "      <td>81.000000</td>\n",
       "      <td>1.000000</td>\n",
       "    </tr>\n",
       "  </tbody>\n",
       "</table>\n",
       "</div>"
      ],
      "text/plain": [
       "       Number of times pregnant  \\\n",
       "count                768.000000   \n",
       "mean                   3.845052   \n",
       "std                    3.369578   \n",
       "min                    0.000000   \n",
       "25%                    1.000000   \n",
       "50%                    3.000000   \n",
       "75%                    6.000000   \n",
       "max                   17.000000   \n",
       "\n",
       "       Plasma glucose concentration a 2 hours in an oral glucose tolerance test  \\\n",
       "count                                         768.000000                          \n",
       "mean                                          120.894531                          \n",
       "std                                            31.972618                          \n",
       "min                                             0.000000                          \n",
       "25%                                            99.000000                          \n",
       "50%                                           117.000000                          \n",
       "75%                                           140.250000                          \n",
       "max                                           199.000000                          \n",
       "\n",
       "       Diastolic blood pressure (mm Hg)  Triceps skin fold thickness (mm)  \\\n",
       "count                        768.000000                        768.000000   \n",
       "mean                          69.105469                         20.536458   \n",
       "std                           19.355807                         15.952218   \n",
       "min                            0.000000                          0.000000   \n",
       "25%                           62.000000                          0.000000   \n",
       "50%                           72.000000                         23.000000   \n",
       "75%                           80.000000                         32.000000   \n",
       "max                          122.000000                         99.000000   \n",
       "\n",
       "       2-Hour serum insulin (mu U/ml)  \\\n",
       "count                      768.000000   \n",
       "mean                        79.799479   \n",
       "std                        115.244002   \n",
       "min                          0.000000   \n",
       "25%                          0.000000   \n",
       "50%                         30.500000   \n",
       "75%                        127.250000   \n",
       "max                        846.000000   \n",
       "\n",
       "       Body mass index (weight in kg/(height in m)^2)  \\\n",
       "count                                      768.000000   \n",
       "mean                                        31.992578   \n",
       "std                                          7.884160   \n",
       "min                                          0.000000   \n",
       "25%                                         27.300000   \n",
       "50%                                         32.000000   \n",
       "75%                                         36.600000   \n",
       "max                                         67.100000   \n",
       "\n",
       "       Diabetes pedigree function  Age (years)  Class variable  \n",
       "count                  768.000000   768.000000      768.000000  \n",
       "mean                     0.471876    33.240885        0.348958  \n",
       "std                      0.331329    11.760232        0.476951  \n",
       "min                      0.078000    21.000000        0.000000  \n",
       "25%                      0.243750    24.000000        0.000000  \n",
       "50%                      0.372500    29.000000        0.000000  \n",
       "75%                      0.626250    41.000000        1.000000  \n",
       "max                      2.420000    81.000000        1.000000  "
      ]
     },
     "execution_count": 14,
     "metadata": {},
     "output_type": "execute_result"
    }
   ],
   "source": [
    "#*********we need high light rows with colour where min. value is zero\n",
    "df1.describe()"
   ]
  },
  {
   "cell_type": "markdown",
   "metadata": {},
   "source": [
    "### Checking for count of zeroes for each column"
   ]
  },
  {
   "cell_type": "code",
   "execution_count": 15,
   "metadata": {
    "scrolled": true
   },
   "outputs": [
    {
     "name": "stdout",
     "output_type": "stream",
     "text": [
      "Number of times pregnant                                                    111\n",
      "Plasma glucose concentration a 2 hours in an oral glucose tolerance test      5\n",
      "Diastolic blood pressure (mm Hg)                                             35\n",
      "Triceps skin fold thickness (mm)                                            227\n",
      "2-Hour serum insulin (mu U/ml)                                              374\n",
      "Body mass index (weight in kg/(height in m)^2)                               11\n",
      "Diabetes pedigree function                                                    0\n",
      "Age (years)                                                                   0\n",
      "Class variable                                                              500\n",
      "dtype: int64\n"
     ]
    }
   ],
   "source": [
    "#This is to find how many column wise zero(0) rows are there!\n",
    "print(df1.isin([0]).sum())"
   ]
  },
  {
   "cell_type": "code",
   "execution_count": 16,
   "metadata": {},
   "outputs": [
    {
     "data": {
      "text/plain": [
       "<AxesSubplot:>"
      ]
     },
     "execution_count": 16,
     "metadata": {},
     "output_type": "execute_result"
    },
    {
     "data": {
      "image/png": "[encoded data removed]",
      "text/plain": [
       "<Figure size 432x288 with 1 Axes>"
      ]
     },
     "metadata": {
      "needs_background": "light"
     },
     "output_type": "display_data"
    }
   ],
   "source": [
    "##we need to find Mean / Median and replace all zeroes with that using Box plot analysis\n",
    "#df2=df1[(df1.T != 0).any()]\n",
    "df2 = df1[df1['2-Hour serum insulin (mu U/ml)'] > 0]\n",
    "#df2.info()\n",
    "df2[['2-Hour serum insulin (mu U/ml)']].plot(kind='box')"
   ]
  },
  {
   "cell_type": "markdown",
   "metadata": {},
   "source": [
    "# Finding the optimial values to replace in skin thickness and insulin level zeros\n"
   ]
  },
  {
   "cell_type": "code",
   "execution_count": 17,
   "metadata": {
    "scrolled": true
   },
   "outputs": [
    {
     "name": "stdout",
     "output_type": "stream",
     "text": [
      "Number of times pregnant                                                     57\n",
      "Plasma glucose concentration a 2 hours in an oral glucose tolerance test      1\n",
      "Diastolic blood pressure (mm Hg)                                              0\n",
      "Triceps skin fold thickness (mm)                                              0\n",
      "2-Hour serum insulin (mu U/ml)                                                0\n",
      "Body mass index (weight in kg/(height in m)^2)                                1\n",
      "Diabetes pedigree function                                                    0\n",
      "Age (years)                                                                   0\n",
      "Class variable                                                              264\n",
      "dtype: int64\n"
     ]
    }
   ],
   "source": [
    "# create a temporary dataframe removing zero values to avoid skew in mean and median\n",
    "df2 = df1[df1['2-Hour serum insulin (mu U/ml)'] > 0]\n",
    "print(df2.isin([0]).sum())"
   ]
  },
  {
   "cell_type": "code",
   "execution_count": 18,
   "metadata": {},
   "outputs": [],
   "source": [
    "# find the grouped mean and median of insulin level\n",
    "grouped_df =df2.groupby('Class variable')\n",
    "smean = round(grouped_df['2-Hour serum insulin (mu U/ml)'].mean(),2)\n",
    "smedian =round(grouped_df['2-Hour serum insulin (mu U/ml)'].median(),2)"
   ]
  },
  {
   "cell_type": "code",
   "execution_count": 19,
   "metadata": {
    "scrolled": true
   },
   "outputs": [
    {
     "data": {
      "text/plain": [
       "Text(0.75, 169.5, '169.5')"
      ]
     },
     "execution_count": 19,
     "metadata": {},
     "output_type": "execute_result"
    },
    {
     "data": {
      "image/png": "[encoded data removed]",
      "text/plain": [
       "<Figure size 432x288 with 1 Axes>"
      ]
     },
     "metadata": {
      "needs_background": "light"
     },
     "output_type": "display_data"
    }
   ],
   "source": [
    "sns.boxplot(y='2-Hour serum insulin (mu U/ml)', x='Class variable', \n",
    "                 data=df2, \n",
    "                 palette=\"colorblind\",\n",
    "                 hue='Class variable',showmeans=True,\n",
    "           meanprops={\"marker\":\"o\",\n",
    "                       \"markerfacecolor\":\"white\", \n",
    "                       \"markeredgecolor\":\"black\",\n",
    "                      \"markersize\":\"10\"})\n",
    "plt.legend(bbox_to_anchor=(1, 1), loc=2)\n",
    "\n",
    "plt.text(0,smean.loc[0],str((smean.loc[0])))\n",
    "plt.text(1*.75,smean.loc[1],str((smean.loc[1])))\n",
    "plt.text(0,smedian.loc[0],str((smedian.loc[0])))\n",
    "plt.text(1*.75,smedian.loc[1],str((smedian.loc[1])))"
   ]
  },
  {
   "cell_type": "markdown",
   "metadata": {},
   "source": [
    "<p class=MsoNormal><span class=GramE><b style='mso-bidi-font-weight:normal'><span\n",
    "style='font-size:14.0pt;line-height:107%;font-family:\"Helvetica\",sans-serif;\n",
    "color:#4472C4;mso-themecolor:accent1;background:white'>Observation for insulin level data :</span></b></span><b\n",
    "style='mso-bidi-font-weight:normal'><span style='font-size:14.0pt;line-height:\n",
    "107%;font-family:\"Helvetica\",sans-serif;color:#4472C4;mso-themecolor:accent1;\n",
    "background:white'><o:p></o:p></span></b></p>\n",
    "\n",
    "<p class=MsoNormal><span style='font-size:10.5pt;line-height:107%;font-family:\n",
    "\"Helvetica\",sans-serif;color:black;background:white'><span\n",
    "style='mso-spacerun:yes'> </span>Outliers are observed, hence its preferred to\n",
    "use Median value for replacement of zeros. There is also significant difference\n",
    "in medians of diabetic and non-diabetic hence team decided to replace insulin\n",
    "level zero’s with <o:p></o:p></span></p>\n",
    "\n",
    "<p class=MsoNormal><b style='mso-bidi-font-weight:normal'><span\n",
    "style='font-size:10.5pt;line-height:107%;font-family:\"Helvetica\",sans-serif;\n",
    "color:black;background:white'>Non-Diabetic --&gt; 102.5<o:p></o:p></span></b></p>\n",
    "\n",
    "<p class=MsoNormal><b style='mso-bidi-font-weight:normal'><span\n",
    "style='font-size:10.5pt;line-height:107%;font-family:\"Helvetica\",sans-serif;\n",
    "color:black;background:white'><span style='mso-spacerun:yes'> </span>Diabetic\n",
    "--&gt; 169.5</span></span><o:p></o:p></b></p>"
   ]
  },
  {
   "cell_type": "code",
   "execution_count": 32,
   "metadata": {},
   "outputs": [
    {
     "name": "stdout",
     "output_type": "stream",
     "text": [
      "Class variable\n",
      "0    27.21\n",
      "1    32.96\n",
      "Name: Triceps skin fold thickness (mm), dtype: float64\n",
      "Class variable\n",
      "0    27\n",
      "1    33\n",
      "Name: Triceps skin fold thickness (mm), dtype: int64\n"
     ]
    }
   ],
   "source": [
    "# find the grouped mean and median of skin fold thickness\n",
    "\n",
    "smean = round(grouped_df['Triceps skin fold thickness (mm)'].mean(),2)\n",
    "smedian =round(grouped_df['Triceps skin fold thickness (mm)'].median(),2)\n",
    "print(smean)\n",
    "print(smedian)"
   ]
  },
  {
   "cell_type": "code",
   "execution_count": 40,
   "metadata": {},
   "outputs": [
    {
     "data": {
      "text/plain": [
       "Text(0, 27, '27')"
      ]
     },
     "execution_count": 40,
     "metadata": {},
     "output_type": "execute_result"
    },
    {
     "data": {
      "image/png": "[encoded data removed]",
      "text/plain": [
       "<Figure size 432x288 with 1 Axes>"
      ]
     },
     "metadata": {
      "needs_background": "light"
     },
     "output_type": "display_data"
    }
   ],
   "source": [
    "sns.boxplot(y='Triceps skin fold thickness (mm)', x='Class variable', \n",
    "                 data=df2, \n",
    "                 palette=\"colorblind\",\n",
    "                 hue='Class variable',showmeans=True,\n",
    "           meanprops={\"marker\":\"o\",\n",
    "                       \"markerfacecolor\":\"white\", \n",
    "                       \"markeredgecolor\":\"black\",\n",
    "                      \"markersize\":\"10\"})\n",
    "plt.legend(bbox_to_anchor=(1, 1), loc=2)\n",
    "\n",
    "plt.text(0,smean.loc[0],str((smean.loc[0])))\n",
    "plt.text(1*.75,smean.loc[1],str((smean.loc[1])))\n",
    "plt.text(0,smedian.loc[0],str((smedian.loc[0])))\n",
    "#plt.text(1*.75,smedian.loc[1],str((smedian.loc[1])))"
   ]
  },
  {
   "cell_type": "markdown",
   "metadata": {},
   "source": [
    "<p class=MsoNormal style='margin-bottom:0in;margin-bottom:.0001pt;line-height:\n",
    "normal;background:white'><b><span style='font-size:14.0pt;font-family:\"Helvetica\",sans-serif;\n",
    "mso-fareast-font-family:\"Times New Roman\";color:#4472C4;background:white'>Observation\n",
    "for skin thickness <span class=GramE>data :</span></span></b><span\n",
    "style='font-size:10.5pt;font-family:\"Helvetica\",sans-serif;mso-fareast-font-family:\n",
    "\"Times New Roman\";color:black'><o:p></o:p></span></p>\n",
    "\n",
    "<p class=MsoNormal style='margin-top:12.0pt;margin-right:0in;margin-bottom:\n",
    "0in;margin-left:0in;margin-bottom:.0001pt;line-height:normal;background:white'><span\n",
    "style='font-size:10.5pt;font-family:\"Helvetica\",sans-serif;mso-fareast-font-family:\n",
    "\"Times New Roman\";color:black;background:white;mso-bidi-font-weight:bold'>There\n",
    "is no significant difference between the mean and <span class=GramE>median ,</span>\n",
    "hence zero values to be replaced with the corresponding mean values of diabetic\n",
    "and non-diabetic<o:p></o:p></span></p>\n",
    "\n",
    "<p class=MsoNormal style='margin-top:12.0pt;margin-right:0in;margin-bottom:\n",
    "0in;margin-left:0in;margin-bottom:.0001pt;line-height:normal;background:white'><span\n",
    "style='font-size:10.5pt;font-family:\"Helvetica\",sans-serif;mso-fareast-font-family:\n",
    "\"Times New Roman\";color:black;background:white;mso-bidi-font-weight:bold'><o:p>&nbsp;</o:p></span></p>\n",
    "\n",
    "<table class=MsoTableGrid border=1 cellspacing=0 cellpadding=0\n",
    " style='border-collapse:collapse;border:none;mso-border-alt:solid windowtext .5pt;\n",
    " mso-yfti-tbllook:1184;mso-padding-alt:0in 5.4pt 0in 5.4pt'>\n",
    " <tr style='mso-yfti-irow:0;mso-yfti-firstrow:yes'>\n",
    "  <td width=126 valign=top style='width:94.25pt;border:solid windowtext 1.0pt;\n",
    "  mso-border-alt:solid windowtext .5pt;padding:0in 5.4pt 0in 5.4pt'>\n",
    "  <p class=MsoNormal style='margin-bottom:0in;margin-bottom:.0001pt;line-height:\n",
    "  normal'><b style='mso-bidi-font-weight:normal'>Group<o:p></o:p></b></p>\n",
    "  </td>\n",
    "  <td width=90 valign=top style='width:67.5pt;border:solid windowtext 1.0pt;\n",
    "  border-left:none;mso-border-left-alt:solid windowtext .5pt;mso-border-alt:\n",
    "  solid windowtext .5pt;padding:0in 5.4pt 0in 5.4pt'>\n",
    "  <p class=MsoNormal align=center style='margin-bottom:0in;margin-bottom:.0001pt;\n",
    "  text-align:center;line-height:normal'><b style='mso-bidi-font-weight:normal'>Mean<o:p></o:p></b></p>\n",
    "  </td>\n",
    "  <td width=84 valign=top style='width:63.0pt;border:solid windowtext 1.0pt;\n",
    "  border-left:none;mso-border-left-alt:solid windowtext .5pt;mso-border-alt:\n",
    "  solid windowtext .5pt;padding:0in 5.4pt 0in 5.4pt'>\n",
    "  <p class=MsoNormal align=center style='margin-bottom:0in;margin-bottom:.0001pt;\n",
    "  text-align:center;line-height:normal'><b style='mso-bidi-font-weight:normal'>Median<o:p></o:p></b></p>\n",
    "  </td>\n",
    " </tr>\n",
    " <tr style='mso-yfti-irow:1'>\n",
    "  <td width=126 valign=top style='width:94.25pt;border:solid windowtext 1.0pt;\n",
    "  border-top:none;mso-border-top-alt:solid windowtext .5pt;mso-border-alt:solid windowtext .5pt;\n",
    "  padding:0in 5.4pt 0in 5.4pt'>\n",
    "  <p class=MsoNormal style='margin-bottom:0in;margin-bottom:.0001pt;line-height:\n",
    "  normal'>Non-Diabetic</p>\n",
    "  </td>\n",
    "  <td width=90 valign=top style='width:67.5pt;border-top:none;border-left:none;\n",
    "  border-bottom:solid windowtext 1.0pt;border-right:solid windowtext 1.0pt;\n",
    "  mso-border-top-alt:solid windowtext .5pt;mso-border-left-alt:solid windowtext .5pt;\n",
    "  mso-border-alt:solid windowtext .5pt;padding:0in 5.4pt 0in 5.4pt'>\n",
    "  <p class=MsoNormal align=center style='margin-bottom:0in;margin-bottom:.0001pt;\n",
    "  text-align:center;line-height:normal;tab-stops:45.8pt 91.6pt 137.4pt 183.2pt 229.0pt 274.8pt 320.6pt 366.4pt 412.2pt 458.0pt 503.8pt 549.6pt 595.4pt 641.2pt 687.0pt 732.8pt;\n",
    "  background:white;vertical-align:baseline;word-break:break-all'><span\n",
    "  style='font-size:10.5pt;font-family:\"Courier New\";mso-fareast-font-family:\n",
    "  \"Times New Roman\";color:black'>27.21<o:p></o:p></span></p>\n",
    "  </td>\n",
    "  <td width=84 valign=top style='width:63.0pt;border-top:none;border-left:none;\n",
    "  border-bottom:solid windowtext 1.0pt;border-right:solid windowtext 1.0pt;\n",
    "  mso-border-top-alt:solid windowtext .5pt;mso-border-left-alt:solid windowtext .5pt;\n",
    "  mso-border-alt:solid windowtext .5pt;padding:0in 5.4pt 0in 5.4pt'><pre\n",
    "  style='text-align:center;background:white;vertical-align:baseline;word-break:\n",
    "  break-all'><span style='font-size:10.5pt;color:black'>27<o:p></o:p></span></pre></td>\n",
    " </tr>\n",
    " <tr style='mso-yfti-irow:2;mso-yfti-lastrow:yes'>\n",
    "  <td width=126 valign=top style='width:94.25pt;border:solid windowtext 1.0pt;\n",
    "  border-top:none;mso-border-top-alt:solid windowtext .5pt;mso-border-alt:solid windowtext .5pt;\n",
    "  padding:0in 5.4pt 0in 5.4pt'>\n",
    "  <p class=MsoNormal style='margin-bottom:0in;margin-bottom:.0001pt;line-height:\n",
    "  normal'>Diabetic</p>\n",
    "  </td>\n",
    "  <td width=90 valign=top style='width:67.5pt;border-top:none;border-left:none;\n",
    "  border-bottom:solid windowtext 1.0pt;border-right:solid windowtext 1.0pt;\n",
    "  mso-border-top-alt:solid windowtext .5pt;mso-border-left-alt:solid windowtext .5pt;\n",
    "  mso-border-alt:solid windowtext .5pt;padding:0in 5.4pt 0in 5.4pt'><pre\n",
    "  style='text-align:center;background:white;vertical-align:baseline;word-break:\n",
    "  break-all'><span style='font-size:10.5pt;color:black'>32.96<o:p></o:p></span></pre></td>\n",
    "  <td width=84 valign=top style='width:63.0pt;border-top:none;border-left:none;\n",
    "  border-bottom:solid windowtext 1.0pt;border-right:solid windowtext 1.0pt;\n",
    "  mso-border-top-alt:solid windowtext .5pt;mso-border-left-alt:solid windowtext .5pt;\n",
    "  mso-border-alt:solid windowtext .5pt;padding:0in 5.4pt 0in 5.4pt'><pre\n",
    "  style='text-align:center;background:white;vertical-align:baseline;word-break:\n",
    "  break-all'><span style='font-size:10.5pt;color:black'>33<o:p></o:p></span></pre></td>\n",
    " </tr>\n",
    "</table>\n",
    "\n",
    "<p class=MsoNormal><o:p>&nbsp;</o:p></p>"
   ]
  },
  {
   "cell_type": "code",
   "execution_count": 21,
   "metadata": {},
   "outputs": [
    {
     "data": {
      "text/html": [
       "<div>\n",
       "<style scoped>\n",
       "    .dataframe tbody tr th:only-of-type {\n",
       "        vertical-align: middle;\n",
       "    }\n",
       "\n",
       "    .dataframe tbody tr th {\n",
       "        vertical-align: top;\n",
       "    }\n",
       "\n",
       "    .dataframe thead th {\n",
       "        text-align: right;\n",
       "    }\n",
       "</style>\n",
       "<table border=\"1\" class=\"dataframe\">\n",
       "  <thead>\n",
       "    <tr style=\"text-align: right;\">\n",
       "      <th></th>\n",
       "      <th>Number of times pregnant</th>\n",
       "      <th>Plasma glucose concentration a 2 hours in an oral glucose tolerance test</th>\n",
       "      <th>Diastolic blood pressure (mm Hg)</th>\n",
       "      <th>Triceps skin fold thickness (mm)</th>\n",
       "      <th>2-Hour serum insulin (mu U/ml)</th>\n",
       "      <th>Body mass index (weight in kg/(height in m)^2)</th>\n",
       "      <th>Diabetes pedigree function</th>\n",
       "      <th>Age (years)</th>\n",
       "      <th>Class variable</th>\n",
       "    </tr>\n",
       "  </thead>\n",
       "  <tbody>\n",
       "    <tr>\n",
       "      <th>count</th>\n",
       "      <td>541.000000</td>\n",
       "      <td>541.000000</td>\n",
       "      <td>541.000000</td>\n",
       "      <td>541.000000</td>\n",
       "      <td>541.000000</td>\n",
       "      <td>541.000000</td>\n",
       "      <td>541.000000</td>\n",
       "      <td>541.000000</td>\n",
       "      <td>541.000000</td>\n",
       "    </tr>\n",
       "    <tr>\n",
       "      <th>mean</th>\n",
       "      <td>3.512015</td>\n",
       "      <td>119.822551</td>\n",
       "      <td>71.197782</td>\n",
       "      <td>29.153420</td>\n",
       "      <td>113.282810</td>\n",
       "      <td>32.774122</td>\n",
       "      <td>0.504850</td>\n",
       "      <td>31.558226</td>\n",
       "      <td>0.332717</td>\n",
       "    </tr>\n",
       "    <tr>\n",
       "      <th>std</th>\n",
       "      <td>3.324759</td>\n",
       "      <td>32.894640</td>\n",
       "      <td>13.007678</td>\n",
       "      <td>10.476982</td>\n",
       "      <td>122.735833</td>\n",
       "      <td>7.144264</td>\n",
       "      <td>0.346639</td>\n",
       "      <td>10.743768</td>\n",
       "      <td>0.471622</td>\n",
       "    </tr>\n",
       "    <tr>\n",
       "      <th>min</th>\n",
       "      <td>0.000000</td>\n",
       "      <td>0.000000</td>\n",
       "      <td>0.000000</td>\n",
       "      <td>7.000000</td>\n",
       "      <td>0.000000</td>\n",
       "      <td>0.000000</td>\n",
       "      <td>0.085000</td>\n",
       "      <td>21.000000</td>\n",
       "      <td>0.000000</td>\n",
       "    </tr>\n",
       "    <tr>\n",
       "      <th>25%</th>\n",
       "      <td>1.000000</td>\n",
       "      <td>97.000000</td>\n",
       "      <td>64.000000</td>\n",
       "      <td>22.000000</td>\n",
       "      <td>0.000000</td>\n",
       "      <td>27.800000</td>\n",
       "      <td>0.259000</td>\n",
       "      <td>23.000000</td>\n",
       "      <td>0.000000</td>\n",
       "    </tr>\n",
       "    <tr>\n",
       "      <th>50%</th>\n",
       "      <td>2.000000</td>\n",
       "      <td>115.000000</td>\n",
       "      <td>72.000000</td>\n",
       "      <td>29.000000</td>\n",
       "      <td>90.000000</td>\n",
       "      <td>32.800000</td>\n",
       "      <td>0.417000</td>\n",
       "      <td>28.000000</td>\n",
       "      <td>0.000000</td>\n",
       "    </tr>\n",
       "    <tr>\n",
       "      <th>75%</th>\n",
       "      <td>5.000000</td>\n",
       "      <td>140.000000</td>\n",
       "      <td>80.000000</td>\n",
       "      <td>36.000000</td>\n",
       "      <td>165.000000</td>\n",
       "      <td>36.900000</td>\n",
       "      <td>0.660000</td>\n",
       "      <td>38.000000</td>\n",
       "      <td>1.000000</td>\n",
       "    </tr>\n",
       "    <tr>\n",
       "      <th>max</th>\n",
       "      <td>17.000000</td>\n",
       "      <td>199.000000</td>\n",
       "      <td>110.000000</td>\n",
       "      <td>99.000000</td>\n",
       "      <td>846.000000</td>\n",
       "      <td>67.100000</td>\n",
       "      <td>2.420000</td>\n",
       "      <td>81.000000</td>\n",
       "      <td>1.000000</td>\n",
       "    </tr>\n",
       "  </tbody>\n",
       "</table>\n",
       "</div>"
      ],
      "text/plain": [
       "       Number of times pregnant  \\\n",
       "count                541.000000   \n",
       "mean                   3.512015   \n",
       "std                    3.324759   \n",
       "min                    0.000000   \n",
       "25%                    1.000000   \n",
       "50%                    2.000000   \n",
       "75%                    5.000000   \n",
       "max                   17.000000   \n",
       "\n",
       "       Plasma glucose concentration a 2 hours in an oral glucose tolerance test  \\\n",
       "count                                         541.000000                          \n",
       "mean                                          119.822551                          \n",
       "std                                            32.894640                          \n",
       "min                                             0.000000                          \n",
       "25%                                            97.000000                          \n",
       "50%                                           115.000000                          \n",
       "75%                                           140.000000                          \n",
       "max                                           199.000000                          \n",
       "\n",
       "       Diastolic blood pressure (mm Hg)  Triceps skin fold thickness (mm)  \\\n",
       "count                        541.000000                        541.000000   \n",
       "mean                          71.197782                         29.153420   \n",
       "std                           13.007678                         10.476982   \n",
       "min                            0.000000                          7.000000   \n",
       "25%                           64.000000                         22.000000   \n",
       "50%                           72.000000                         29.000000   \n",
       "75%                           80.000000                         36.000000   \n",
       "max                          110.000000                         99.000000   \n",
       "\n",
       "       2-Hour serum insulin (mu U/ml)  \\\n",
       "count                      541.000000   \n",
       "mean                       113.282810   \n",
       "std                        122.735833   \n",
       "min                          0.000000   \n",
       "25%                          0.000000   \n",
       "50%                         90.000000   \n",
       "75%                        165.000000   \n",
       "max                        846.000000   \n",
       "\n",
       "       Body mass index (weight in kg/(height in m)^2)  \\\n",
       "count                                      541.000000   \n",
       "mean                                        32.774122   \n",
       "std                                          7.144264   \n",
       "min                                          0.000000   \n",
       "25%                                         27.800000   \n",
       "50%                                         32.800000   \n",
       "75%                                         36.900000   \n",
       "max                                         67.100000   \n",
       "\n",
       "       Diabetes pedigree function  Age (years)  Class variable  \n",
       "count                  541.000000   541.000000      541.000000  \n",
       "mean                     0.504850    31.558226        0.332717  \n",
       "std                      0.346639    10.743768        0.471622  \n",
       "min                      0.085000    21.000000        0.000000  \n",
       "25%                      0.259000    23.000000        0.000000  \n",
       "50%                      0.417000    28.000000        0.000000  \n",
       "75%                      0.660000    38.000000        1.000000  \n",
       "max                      2.420000    81.000000        1.000000  "
      ]
     },
     "execution_count": 21,
     "metadata": {},
     "output_type": "execute_result"
    },
    {
     "data": {
      "image/png": "[encoded data removed]",
      "text/plain": [
       "<Figure size 432x288 with 1 Axes>"
      ]
     },
     "metadata": {
      "needs_background": "light"
     },
     "output_type": "display_data"
    }
   ],
   "source": [
    "##we need to find Mean / Median and replace all zeroes with that using Box plot analysis\n",
    "#df2=df1[(df1.T != 0).any()]\n",
    "df3 = df1[df1['Triceps skin fold thickness (mm)'] > 0]\n",
    "#df2.info()\n",
    "df3[['Triceps skin fold thickness (mm)']].plot(kind='box')\n",
    "df3.describe()"
   ]
  },
  {
   "cell_type": "code",
   "execution_count": 22,
   "metadata": {},
   "outputs": [
    {
     "name": "stdout",
     "output_type": "stream",
     "text": [
      "<class 'pandas.core.frame.DataFrame'>\n",
      "Int64Index: 763 entries, 0 to 767\n",
      "Data columns (total 9 columns):\n",
      " #   Column                                                                    Non-Null Count  Dtype  \n",
      "---  ------                                                                    --------------  -----  \n",
      " 0   Number of times pregnant                                                  763 non-null    int64  \n",
      " 1   Plasma glucose concentration a 2 hours in an oral glucose tolerance test  763 non-null    int64  \n",
      " 2   Diastolic blood pressure (mm Hg)                                          763 non-null    int64  \n",
      " 3   Triceps skin fold thickness (mm)                                          763 non-null    int64  \n",
      " 4   2-Hour serum insulin (mu U/ml)                                            763 non-null    int64  \n",
      " 5   Body mass index (weight in kg/(height in m)^2)                            763 non-null    float64\n",
      " 6   Diabetes pedigree function                                                763 non-null    float64\n",
      " 7   Age (years)                                                               763 non-null    int64  \n",
      " 8   Class variable                                                            763 non-null    int64  \n",
      "dtypes: float64(2), int64(7)\n",
      "memory usage: 59.6 KB\n"
     ]
    }
   ],
   "source": [
    "df1 =df1[df1['Plasma glucose concentration a 2 hours in an oral glucose tolerance test'] > 0]\n",
    "df1.info()"
   ]
  },
  {
   "cell_type": "code",
   "execution_count": 23,
   "metadata": {},
   "outputs": [
    {
     "name": "stdout",
     "output_type": "stream",
     "text": [
      "<class 'pandas.core.frame.DataFrame'>\n",
      "Int64Index: 728 entries, 0 to 767\n",
      "Data columns (total 9 columns):\n",
      " #   Column                                                                    Non-Null Count  Dtype  \n",
      "---  ------                                                                    --------------  -----  \n",
      " 0   Number of times pregnant                                                  728 non-null    int64  \n",
      " 1   Plasma glucose concentration a 2 hours in an oral glucose tolerance test  728 non-null    int64  \n",
      " 2   Diastolic blood pressure (mm Hg)                                          728 non-null    int64  \n",
      " 3   Triceps skin fold thickness (mm)                                          728 non-null    int64  \n",
      " 4   2-Hour serum insulin (mu U/ml)                                            728 non-null    int64  \n",
      " 5   Body mass index (weight in kg/(height in m)^2)                            728 non-null    float64\n",
      " 6   Diabetes pedigree function                                                728 non-null    float64\n",
      " 7   Age (years)                                                               728 non-null    int64  \n",
      " 8   Class variable                                                            728 non-null    int64  \n",
      "dtypes: float64(2), int64(7)\n",
      "memory usage: 56.9 KB\n"
     ]
    }
   ],
   "source": [
    "df1 =df1[df1['Diastolic blood pressure (mm Hg)'] > 0]\n",
    "df1.info()"
   ]
  },
  {
   "cell_type": "code",
   "execution_count": 24,
   "metadata": {},
   "outputs": [
    {
     "name": "stdout",
     "output_type": "stream",
     "text": [
      "<class 'pandas.core.frame.DataFrame'>\n",
      "Int64Index: 724 entries, 0 to 767\n",
      "Data columns (total 9 columns):\n",
      " #   Column                                                                    Non-Null Count  Dtype  \n",
      "---  ------                                                                    --------------  -----  \n",
      " 0   Number of times pregnant                                                  724 non-null    int64  \n",
      " 1   Plasma glucose concentration a 2 hours in an oral glucose tolerance test  724 non-null    int64  \n",
      " 2   Diastolic blood pressure (mm Hg)                                          724 non-null    int64  \n",
      " 3   Triceps skin fold thickness (mm)                                          724 non-null    int64  \n",
      " 4   2-Hour serum insulin (mu U/ml)                                            724 non-null    int64  \n",
      " 5   Body mass index (weight in kg/(height in m)^2)                            724 non-null    float64\n",
      " 6   Diabetes pedigree function                                                724 non-null    float64\n",
      " 7   Age (years)                                                               724 non-null    int64  \n",
      " 8   Class variable                                                            724 non-null    int64  \n",
      "dtypes: float64(2), int64(7)\n",
      "memory usage: 56.6 KB\n"
     ]
    }
   ],
   "source": [
    "df1 =df1[df1['Body mass index (weight in kg/(height in m)^2)'] > 0]\n",
    "df1.info()"
   ]
  },
  {
   "cell_type": "code",
   "execution_count": 25,
   "metadata": {},
   "outputs": [
    {
     "name": "stdout",
     "output_type": "stream",
     "text": [
      "24.0\n"
     ]
    },
    {
     "data": {
      "text/html": [
       "<div>\n",
       "<style scoped>\n",
       "    .dataframe tbody tr th:only-of-type {\n",
       "        vertical-align: middle;\n",
       "    }\n",
       "\n",
       "    .dataframe tbody tr th {\n",
       "        vertical-align: top;\n",
       "    }\n",
       "\n",
       "    .dataframe thead th {\n",
       "        text-align: right;\n",
       "    }\n",
       "</style>\n",
       "<table border=\"1\" class=\"dataframe\">\n",
       "  <thead>\n",
       "    <tr style=\"text-align: right;\">\n",
       "      <th></th>\n",
       "      <th>Number of times pregnant</th>\n",
       "      <th>Plasma glucose concentration a 2 hours in an oral glucose tolerance test</th>\n",
       "      <th>Diastolic blood pressure (mm Hg)</th>\n",
       "      <th>Triceps skin fold thickness (mm)</th>\n",
       "      <th>2-Hour serum insulin (mu U/ml)</th>\n",
       "      <th>Body mass index (weight in kg/(height in m)^2)</th>\n",
       "      <th>Diabetes pedigree function</th>\n",
       "      <th>Age (years)</th>\n",
       "      <th>Class variable</th>\n",
       "    </tr>\n",
       "  </thead>\n",
       "  <tbody>\n",
       "  </tbody>\n",
       "</table>\n",
       "</div>"
      ],
      "text/plain": [
       "Empty DataFrame\n",
       "Columns: [Number of times pregnant, Plasma glucose concentration a 2 hours in an oral glucose tolerance test, Diastolic blood pressure (mm Hg), Triceps skin fold thickness (mm), 2-Hour serum insulin (mu U/ml), Body mass index (weight in kg/(height in m)^2), Diabetes pedigree function, Age (years), Class variable]\n",
       "Index: []"
      ]
     },
     "execution_count": 25,
     "metadata": {},
     "output_type": "execute_result"
    }
   ],
   "source": [
    "#Find median of Triceps skin fold thickness (mm) and replace it in the Data Frame\n",
    "#pending work will be removing outlayers from the calculatin of median\n",
    "tricepsMean = df1['Triceps skin fold thickness (mm)'].median()\n",
    "print(tricepsMean)\n",
    "df1['Triceps skin fold thickness (mm)'] = df1['Triceps skin fold thickness (mm)'].replace(0, tricepsMean)\n",
    "\n",
    "df1[df1['Triceps skin fold thickness (mm)'] == 0]"
   ]
  },
  {
   "cell_type": "code",
   "execution_count": 26,
   "metadata": {},
   "outputs": [
    {
     "name": "stdout",
     "output_type": "stream",
     "text": [
      "48.0\n"
     ]
    },
    {
     "data": {
      "text/html": [
       "<div>\n",
       "<style scoped>\n",
       "    .dataframe tbody tr th:only-of-type {\n",
       "        vertical-align: middle;\n",
       "    }\n",
       "\n",
       "    .dataframe tbody tr th {\n",
       "        vertical-align: top;\n",
       "    }\n",
       "\n",
       "    .dataframe thead th {\n",
       "        text-align: right;\n",
       "    }\n",
       "</style>\n",
       "<table border=\"1\" class=\"dataframe\">\n",
       "  <thead>\n",
       "    <tr style=\"text-align: right;\">\n",
       "      <th></th>\n",
       "      <th>Number of times pregnant</th>\n",
       "      <th>Plasma glucose concentration a 2 hours in an oral glucose tolerance test</th>\n",
       "      <th>Diastolic blood pressure (mm Hg)</th>\n",
       "      <th>Triceps skin fold thickness (mm)</th>\n",
       "      <th>2-Hour serum insulin (mu U/ml)</th>\n",
       "      <th>Body mass index (weight in kg/(height in m)^2)</th>\n",
       "      <th>Diabetes pedigree function</th>\n",
       "      <th>Age (years)</th>\n",
       "      <th>Class variable</th>\n",
       "    </tr>\n",
       "  </thead>\n",
       "  <tbody>\n",
       "  </tbody>\n",
       "</table>\n",
       "</div>"
      ],
      "text/plain": [
       "Empty DataFrame\n",
       "Columns: [Number of times pregnant, Plasma glucose concentration a 2 hours in an oral glucose tolerance test, Diastolic blood pressure (mm Hg), Triceps skin fold thickness (mm), 2-Hour serum insulin (mu U/ml), Body mass index (weight in kg/(height in m)^2), Diabetes pedigree function, Age (years), Class variable]\n",
       "Index: []"
      ]
     },
     "execution_count": 26,
     "metadata": {},
     "output_type": "execute_result"
    }
   ],
   "source": [
    "#Find median of Triceps skin fold thickness (mm) and replace it in the Data Frame\n",
    "#pending work will be removing outlayers from the calculatin of median\n",
    "tricepsMean = df1['2-Hour serum insulin (mu U/ml)'].median()\n",
    "print(tricepsMean)\n",
    "df1['2-Hour serum insulin (mu U/ml)'] = df1['2-Hour serum insulin (mu U/ml)'].replace(0, tricepsMean)\n",
    "\n",
    "df1[df1['2-Hour serum insulin (mu U/ml)'] == 0]"
   ]
  },
  {
   "cell_type": "markdown",
   "metadata": {},
   "source": [
    "## Data Exploration"
   ]
  },
  {
   "cell_type": "code",
   "execution_count": 27,
   "metadata": {
    "scrolled": true
   },
   "outputs": [],
   "source": [
    "##2-Hour serum insulin (mu U/ml) has large number of missing values , so we are going to drop this column\n",
    "#below axis=1 signifis we need to drop the column\n",
    "#df1.drop('2-Hour serum insulin (mu U/ml)',axis=1)"
   ]
  },
  {
   "cell_type": "code",
   "execution_count": 28,
   "metadata": {
    "scrolled": true
   },
   "outputs": [
    {
     "data": {
      "text/html": [
       "<div>\n",
       "<style scoped>\n",
       "    .dataframe tbody tr th:only-of-type {\n",
       "        vertical-align: middle;\n",
       "    }\n",
       "\n",
       "    .dataframe tbody tr th {\n",
       "        vertical-align: top;\n",
       "    }\n",
       "\n",
       "    .dataframe thead th {\n",
       "        text-align: right;\n",
       "    }\n",
       "</style>\n",
       "<table border=\"1\" class=\"dataframe\">\n",
       "  <thead>\n",
       "    <tr style=\"text-align: right;\">\n",
       "      <th></th>\n",
       "      <th>Number of times pregnant</th>\n",
       "      <th>Plasma glucose concentration a 2 hours in an oral glucose tolerance test</th>\n",
       "      <th>Diastolic blood pressure (mm Hg)</th>\n",
       "      <th>Triceps skin fold thickness (mm)</th>\n",
       "      <th>2-Hour serum insulin (mu U/ml)</th>\n",
       "      <th>Body mass index (weight in kg/(height in m)^2)</th>\n",
       "      <th>Diabetes pedigree function</th>\n",
       "      <th>Age (years)</th>\n",
       "    </tr>\n",
       "    <tr>\n",
       "      <th>Class variable</th>\n",
       "      <th></th>\n",
       "      <th></th>\n",
       "      <th></th>\n",
       "      <th></th>\n",
       "      <th></th>\n",
       "      <th></th>\n",
       "      <th></th>\n",
       "      <th></th>\n",
       "    </tr>\n",
       "  </thead>\n",
       "  <tbody>\n",
       "    <tr>\n",
       "      <th>0</th>\n",
       "      <td>3.320000</td>\n",
       "      <td>111.016842</td>\n",
       "      <td>70.907368</td>\n",
       "      <td>26.458947</td>\n",
       "      <td>93.701053</td>\n",
       "      <td>30.974947</td>\n",
       "      <td>0.430297</td>\n",
       "      <td>31.258947</td>\n",
       "    </tr>\n",
       "    <tr>\n",
       "      <th>1</th>\n",
       "      <td>4.907631</td>\n",
       "      <td>142.610442</td>\n",
       "      <td>75.248996</td>\n",
       "      <td>30.381526</td>\n",
       "      <td>130.931727</td>\n",
       "      <td>35.313655</td>\n",
       "      <td>0.559594</td>\n",
       "      <td>37.341365</td>\n",
       "    </tr>\n",
       "  </tbody>\n",
       "</table>\n",
       "</div>"
      ],
      "text/plain": [
       "                Number of times pregnant  \\\n",
       "Class variable                             \n",
       "0                               3.320000   \n",
       "1                               4.907631   \n",
       "\n",
       "                Plasma glucose concentration a 2 hours in an oral glucose tolerance test  \\\n",
       "Class variable                                                                             \n",
       "0                                                      111.016842                          \n",
       "1                                                      142.610442                          \n",
       "\n",
       "                Diastolic blood pressure (mm Hg)  \\\n",
       "Class variable                                     \n",
       "0                                      70.907368   \n",
       "1                                      75.248996   \n",
       "\n",
       "                Triceps skin fold thickness (mm)  \\\n",
       "Class variable                                     \n",
       "0                                      26.458947   \n",
       "1                                      30.381526   \n",
       "\n",
       "                2-Hour serum insulin (mu U/ml)  \\\n",
       "Class variable                                   \n",
       "0                                    93.701053   \n",
       "1                                   130.931727   \n",
       "\n",
       "                Body mass index (weight in kg/(height in m)^2)  \\\n",
       "Class variable                                                   \n",
       "0                                                    30.974947   \n",
       "1                                                    35.313655   \n",
       "\n",
       "                Diabetes pedigree function  Age (years)  \n",
       "Class variable                                           \n",
       "0                                 0.430297    31.258947  \n",
       "1                                 0.559594    37.341365  "
      ]
     },
     "execution_count": 28,
     "metadata": {},
     "output_type": "execute_result"
    }
   ],
   "source": [
    "df1.groupby('Class variable').mean()\n",
    "#df2[['disp','hp']].plot(kind='box')"
   ]
  },
  {
   "cell_type": "code",
   "execution_count": 29,
   "metadata": {},
   "outputs": [
    {
     "ename": "SyntaxError",
     "evalue": "invalid syntax (<ipython-input-29-d90765bc659f>, line 1)",
     "output_type": "error",
     "traceback": [
      "\u001b[1;36m  File \u001b[1;32m\"<ipython-input-29-d90765bc659f>\"\u001b[1;36m, line \u001b[1;32m1\u001b[0m\n\u001b[1;33m    df3 = df1[df1['Triceps skin fold thickness (mm)'] > 0 ,['Class variable'] =0]]\u001b[0m\n\u001b[1;37m                                                                              ^\u001b[0m\n\u001b[1;31mSyntaxError\u001b[0m\u001b[1;31m:\u001b[0m invalid syntax\n"
     ]
    }
   ],
   "source": [
    "df3 = df1[df1['Triceps skin fold thickness (mm)'] > 0 ,['Class variable'] =0]]\n",
    "df3[['Triceps skin fold thickness (mm)']].plot(kind='box')"
   ]
  },
  {
   "cell_type": "code",
   "execution_count": null,
   "metadata": {},
   "outputs": [],
   "source": [
    "Groups=df1.columns\n",
    "Mgroups=[]\n",
    "Fgroups=[]\n",
    "\n",
    "Mgroups = df1[df1['Class variable'] == 1]\n",
    "\n",
    "Fgroups=df1[df1['Class variable'] == 0]\n",
    "\n",
    "sns.boxplot(x = Mgroups,\n",
    "            y = Fgroups,\n",
    "            hue = df1['Class variable'])"
   ]
  },
  {
   "cell_type": "code",
   "execution_count": null,
   "metadata": {},
   "outputs": [],
   "source": [
    "df1.columns"
   ]
  },
  {
   "cell_type": "markdown",
   "metadata": {},
   "source": [
    "<p style=\"color:red; text-align:center; font-size: 22px\"> <br/> \n",
    "    ********************  Amar work to start  *****************<br/>\n",
    "</p>"
   ]
  },
  {
   "cell_type": "code",
   "execution_count": null,
   "metadata": {},
   "outputs": [],
   "source": [
    "sns.boxplot(y=[ ['Number of times pregnant',\n",
    "       'Plasma glucose concentration a 2 hours in an oral glucose tolerance test'] ], x='Class variable', \n",
    "                 data=df1, \n",
    "                 palette=\"colorblind\",\n",
    "           hue=df1['Class variable'])"
   ]
  },
  {
   "cell_type": "code",
   "execution_count": null,
   "metadata": {},
   "outputs": [],
   "source": [
    "Groups = df1.columns\n",
    "for g in Groups:\n",
    "    if g == 'Class variable':\n",
    "        continue        \n",
    "    dfgc = df1[g]\n",
    "    if dfgc[dfgc['Class variable'] == 0]:\n",
    "        m=dfgc[g]\n",
    "    else:\n",
    "        f=dfgc[g]        \n",
    "    Mgroups.append(m.tolist())\n",
    "    Fgroups.append(f.tolist())"
   ]
  },
  {
   "cell_type": "code",
   "execution_count": null,
   "metadata": {},
   "outputs": [],
   "source": [
    "df1 = df1.astype(float)\n",
    "Groups = df1.columns\n",
    "Groups=df1.columns\n",
    "Mgroups=[]\n",
    "Fgroups=[]\n",
    "\n",
    "Mgroups = df1[df1['Class variable'] == 1].astype(float)\n",
    "\n",
    "Fgroups=df1[df1['Class variable'] == 0].astype(float)\n",
    "\n",
    "fig=plt.figure()\n",
    "ax = plt.axes()\n",
    "def setBoxColors(bp,cl):\n",
    "    plt.setp(bp['boxes'], color=cl, linewidth=2.)\n",
    "    plt.setp(bp['whiskers'], color=cl, linewidth=2.5)\n",
    "    plt.setp(bp['caps'], color=cl,linewidth=2)\n",
    "    plt.setp(bp['medians'], color=cl, linewidth=3.5)\n",
    "\n",
    "bpl = plt.boxplot(Mgroups, positions=np.array(range(len(Mgroups)))*3.0-0.4,vert=False,whis='range', sym='', widths=0.6)\n",
    "bpr = plt.boxplot(Fgroups, positions=np.array(range(len(Fgroups)))*3.0+0.4,vert=False,whis='range', sym='', widths=0.6)\n",
    "setBoxColors(bpr, '#D7191C') \n",
    "setBoxColors(bpl, '#2C7BB6')\n",
    "\n",
    "# draw temporary red and blue lines and use them to create a legend\n",
    "plt.plot([], c='#D7191C', label='0')\n",
    "plt.plot([], c='#2C7BB6', label='1')\n",
    "plt.legend()\n",
    "\n",
    "plt.yticks(range(0, len(Groups) * 3, 3), Groups)\n",
    "plt.ylim(-3, len(Groups)*3)\n",
    "#plt.xlim(0, 8)\n",
    "plt.show()"
   ]
  },
  {
   "cell_type": "code",
   "execution_count": null,
   "metadata": {},
   "outputs": [],
   "source": [
    "s = df1[df1['Class variable'] == 1].astype(float)\n",
    "t = df1[df1['Class variable'] == 0].astype(float)\n",
    "df = pd.DataFrame({'Group':[0,1],'M':s,'F':t})\n",
    "print(df)\n",
    "df = df[['Group','M','F']]\n",
    "\n",
    "Groups=df1.columns\n",
    "Columns=df.columns.tolist()[1:]\n",
    "print (Columns)\n",
    "Mgroups=[]\n",
    "Fgroups=[]\n",
    "\n",
    "for g in Groups:\n",
    "    dfgc = df[df['Group']==g]\n",
    "    m=dfgc['M'].dropna()\n",
    "    f=dfgc['F'].dropna()\n",
    "    Mgroups.append(m.tolist())\n",
    "    Fgroups.append(f.tolist())\n",
    "\n",
    "fig=plt.figure()\n",
    "ax = plt.axes()\n",
    "def setBoxColors(bp,cl):\n",
    "    plt.setp(bp['boxes'], color=cl, linewidth=2.)\n",
    "    plt.setp(bp['whiskers'], color=cl, linewidth=2.5)\n",
    "    plt.setp(bp['caps'], color=cl,linewidth=2)\n",
    "    plt.setp(bp['medians'], color=cl, linewidth=3.5)\n",
    "\n",
    "bpl = plt.boxplot(Mgroups, positions=np.array(range(len(Mgroups)))*3.0-0.4,vert=False,whis='range', sym='', widths=0.6)\n",
    "bpr = plt.boxplot(Fgroups, positions=np.array(range(len(Fgroups)))*3.0+0.4,vert=False,whis='range', sym='', widths=0.6)\n",
    "setBoxColors(bpr, '#D7191C') # colors are from http://colorbrewer2.org/\n",
    "setBoxColors(bpl, '#2C7BB6')\n",
    "\n",
    "# draw temporary red and blue lines and use them to create a legend\n",
    "plt.plot([], c='#D7191C', label='F')\n",
    "plt.plot([], c='#2C7BB6', label='M')\n",
    "plt.legend()\n",
    "\n",
    "plt.yticks(range(0, len(Groups) * 3, 3), Groups)\n",
    "plt.ylim(-3, len(Groups)*3)\n",
    "#plt.xlim(0, 8)\n",
    "plt.show()"
   ]
  },
  {
   "cell_type": "code",
   "execution_count": null,
   "metadata": {},
   "outputs": [],
   "source": [
    "x =np.random.rand(10)\n",
    "print(type(x))\n",
    "print(x)"
   ]
  },
  {
   "cell_type": "markdown",
   "metadata": {},
   "source": [
    "<p style=\"color:red; text-align:center; font-size: 22px\"> <br/> \n",
    "    ******************** Amar work to end  *****************<br/>\n",
    "</p>"
   ]
  },
  {
   "cell_type": "markdown",
   "metadata": {},
   "source": [
    "## Histograms"
   ]
  },
  {
   "cell_type": "markdown",
   "metadata": {},
   "source": [
    "In the Histogram below we are visualizing total sample data in terms of absolute count."
   ]
  },
  {
   "cell_type": "code",
   "execution_count": null,
   "metadata": {
    "scrolled": false
   },
   "outputs": [],
   "source": [
    "for i,col in enumerate(df1.columns[:-1]):\n",
    "    plt.figure(i)\n",
    "    sns.displot(df1[col], kind='hist', rug=True);"
   ]
  },
  {
   "cell_type": "markdown",
   "metadata": {},
   "source": [
    "## Scatter plot"
   ]
  },
  {
   "cell_type": "code",
   "execution_count": null,
   "metadata": {},
   "outputs": [],
   "source": [
    "sns.pairplot(df1, hue=\"Class variable\", diag_kind = 'hist');"
   ]
  },
  {
   "cell_type": "markdown",
   "metadata": {},
   "source": [
    "# Data Corelation"
   ]
  },
  {
   "cell_type": "code",
   "execution_count": null,
   "metadata": {},
   "outputs": [],
   "source": [
    "df1.corr()"
   ]
  },
  {
   "cell_type": "markdown",
   "metadata": {},
   "source": [
    "# Data Ranking against Class Variable"
   ]
  },
  {
   "cell_type": "markdown",
   "metadata": {},
   "source": [
    "<p style=\"color:red; text-align:center; font-size: 22px\">Amar work - We need to fix sorting issue of Class variable.</p>"
   ]
  },
  {
   "cell_type": "code",
   "execution_count": null,
   "metadata": {},
   "outputs": [],
   "source": [
    "df2 = df1.corr()\n",
    "df2['Class variable'].rank(method='dense',axis=0,ascending=False)"
   ]
  },
  {
   "cell_type": "markdown",
   "metadata": {},
   "source": [
    "# Heatmap"
   ]
  },
  {
   "cell_type": "code",
   "execution_count": null,
   "metadata": {},
   "outputs": [],
   "source": [
    "cmatrix=df1.corr() \n",
    "plt.figure(figsize=(10,8),dpi=100)\n",
    "sns.heatmap(cmatrix,annot=True,cmap='RdYlGn_r')"
   ]
  },
  {
   "cell_type": "markdown",
   "metadata": {},
   "source": [
    "# Data Covariance"
   ]
  },
  {
   "cell_type": "code",
   "execution_count": null,
   "metadata": {},
   "outputs": [],
   "source": [
    "df1.cov()"
   ]
  },
  {
   "cell_type": "code",
   "execution_count": null,
   "metadata": {},
   "outputs": [],
   "source": [
    "plt.figure(figsize=(10,9))\n",
    "plt.hist2d(df1[\"Plasma glucose concentration a 2 hours in an oral glucose tolerance test\"], df1[\"Body mass index (weight in kg/(height in m)^2)\"], bins=(20,20), cmap=\"magma\")\n",
    "plt.xlabel(\"Plasma glucose concentration a 2 hours in an oral glucose tolerance test\")\n",
    "plt.ylabel(\"Body mass index (weight in kg/(height in m)^2)\")\n",
    "plt.colorbar();"
   ]
  },
  {
   "cell_type": "markdown",
   "metadata": {},
   "source": [
    "# Pair plot for significant influencers for outcome"
   ]
  },
  {
   "cell_type": "code",
   "execution_count": null,
   "metadata": {},
   "outputs": [],
   "source": [
    "sns.pairplot(df1[['Plasma glucose concentration a 2 hours in an oral glucose tolerance test',\n",
    "                  'Body mass index (weight in kg/(height in m)^2)',\n",
    "                 'Age (years)', 'Number of times pregnant','Class variable']], kind='reg', hue='Class variable', diag_kind = 'hist');"
   ]
  },
  {
   "cell_type": "markdown",
   "metadata": {},
   "source": [
    "<link rel=\"stylesheet\" href=\"https://fonts.googleapis.com/css?family=Tangerine\">    \n",
    "<div style=\"font-family: 'Tangerine', serif; text-align:center; font-size: 35px; text-shadow: 4px 4px 4px #aaa;\">Conslusion</div>"
   ]
  },
  {
   "cell_type": "code",
   "execution_count": null,
   "metadata": {},
   "outputs": [],
   "source": [
    "sns.lmplot(data=df1,x='Plasma glucose concentration a 2 hours in an oral glucose tolerance test',y='Body mass index (weight in kg/(height in m)^2)',hue='Class variable') "
   ]
  },
  {
   "cell_type": "code",
   "execution_count": null,
   "metadata": {},
   "outputs": [],
   "source": [
    "sns.lmplot(data=df1,x='Plasma glucose concentration a 2 hours in an oral glucose tolerance test',y='Age (years)',hue='Class variable') "
   ]
  },
  {
   "cell_type": "code",
   "execution_count": null,
   "metadata": {},
   "outputs": [],
   "source": [
    "sns.lmplot(data=df1,x='Age (years)',y='Number of times pregnant',hue='Class variable') "
   ]
  },
  {
   "cell_type": "code",
   "execution_count": null,
   "metadata": {},
   "outputs": [],
   "source": []
  }
 ],
 "metadata": {
  "kernelspec": {
   "display_name": "Python 3",
   "language": "python",
   "name": "python3"
  },
  "language_info": {
   "codemirror_mode": {
    "name": "ipython",
    "version": 3
   },
   "file_extension": ".py",
   "mimetype": "text/x-python",
   "name": "python",
   "nbconvert_exporter": "python",
   "pygments_lexer": "ipython3",
   "version": "3.8.5"
  }
 },
 "nbformat": 4,
 "nbformat_minor": 4
}
